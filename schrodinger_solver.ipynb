{
 "cells": [
  {
   "cell_type": "markdown",
   "metadata": {},
   "source": [
    "## Computational Physics: Solving the Time Independant Schrodinger Equation\n",
    "\n",
    "Abby Wilson, Teddy Pena, Reed Spitzer"
   ]
  },
  {
   "cell_type": "markdown",
   "metadata": {},
   "source": [
    "import libraries"
   ]
  },
  {
   "cell_type": "code",
   "execution_count": 1,
   "metadata": {},
   "outputs": [],
   "source": [
    "import matplotlib.pyplot as plt\n",
    "import numpy as np\n",
    "import scipy as sci"
   ]
  },
  {
   "cell_type": "markdown",
   "metadata": {},
   "source": [
    "initialize variables:\n",
    "psi is the wave function, \n",
    "u = dpsi/dx"
   ]
  },
  {
   "cell_type": "code",
   "execution_count": 16,
   "metadata": {},
   "outputs": [],
   "source": [
    "psi0 = 0 #initial value of psi\n",
    "u0 = 1 #intial value of derivative of psi\n",
    "\n",
    "x0 = 0 \n",
    "xf = 3\n",
    "step = 0.001\n",
    "numsteps = int(xf/step) + 1"
   ]
  },
  {
   "cell_type": "code",
   "execution_count": 17,
   "metadata": {},
   "outputs": [],
   "source": [
    "x = np.linspace(x0, xf, numsteps)"
   ]
  },
  {
   "cell_type": "markdown",
   "metadata": {},
   "source": [
    "Solve the TISE using Euler's approximation"
   ]
  },
  {
   "cell_type": "code",
   "execution_count": 23,
   "metadata": {},
   "outputs": [],
   "source": [
    "# define the potential function\n",
    "def V(x):\n",
    "    if x <= 0:\n",
    "        return 0\n",
    "    return x"
   ]
  },
  {
   "cell_type": "code",
   "execution_count": 24,
   "metadata": {},
   "outputs": [],
   "source": [
    "def calcEulers(E):\n",
    "\n",
    "    psi = np.zeros([numsteps])\n",
    "    u = np.zeros([numsteps])\n",
    "\n",
    "    psi[0]=psi0\n",
    "    u[0]=u0\n",
    "    \n",
    "    for i in range(1, numsteps):\n",
    "        u[i] = u[i-1] + step * (-2) * (E - V((i-1)*step)) * psi[i-1]\n",
    "        psi[i] = psi[i-1] + step * u[i-1]\n",
    "         \n",
    "    return x, psi"
   ]
  },
  {
   "cell_type": "code",
   "execution_count": 25,
   "metadata": {},
   "outputs": [
    {
     "data": {
      "image/png": "[encoded data removed]",
      "text/plain": [
       "<Figure size 432x288 with 1 Axes>"
      ]
     },
     "metadata": {},
     "output_type": "display_data"
    }
   ],
   "source": [
    "x0, wave_func0 = calcEulers(0)\n",
    "x1, wave_func1 = calcEulers(1)\n",
    "x2, wave_func2 = calcEulers(2)\n",
    "\n",
    "plt.plot(x0, wave_func0)\n",
    "plt.plot(x1, wave_func1)\n",
    "plt.plot(x2, wave_func2)\n",
    "plt.legend(['E=0','E=1','E=2'])\n",
    "plt.xlabel(\"position\")\n",
    "plt.ylabel(\"Wave Function\")\n",
    "plt.title(\"Wave Function for Different Values of E\")\n",
    "plt.show()"
   ]
  },
  {
   "cell_type": "code",
   "execution_count": null,
   "metadata": {},
   "outputs": [],
   "source": []
  },
  {
   "cell_type": "code",
   "execution_count": null,
   "metadata": {},
   "outputs": [],
   "source": []
  }
 ],
 "metadata": {
  "kernelspec": {
   "display_name": "Python 3",
   "language": "python",
   "name": "python3"
  },
  "language_info": {
   "codemirror_mode": {
    "name": "ipython",
    "version": 3
   },
   "file_extension": ".py",
   "mimetype": "text/x-python",
   "name": "python",
   "nbconvert_exporter": "python",
   "pygments_lexer": "ipython3",
   "version": "3.6.5"
  },
  "varInspector": {
   "cols": {
    "lenName": 16,
    "lenType": 16,
    "lenVar": 40
   },
   "kernels_config": {
    "python": {
     "delete_cmd_postfix": "",
     "delete_cmd_prefix": "del ",
     "library": "var_list.py",
     "varRefreshCmd": "print(var_dic_list())"
    },
    "r": {
     "delete_cmd_postfix": ") ",
     "delete_cmd_prefix": "rm(",
     "library": "var_list.r",
     "varRefreshCmd": "cat(var_dic_list()) "
    }
   },
   "types_to_exclude": [
    "module",
    "function",
    "builtin_function_or_method",
    "instance",
    "_Feature"
   ],
   "window_display": false
  }
 },
 "nbformat": 4,
 "nbformat_minor": 2
}
