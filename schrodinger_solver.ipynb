{
 "cells": [
  {
   "cell_type": "markdown",
   "metadata": {},
   "source": [
    "## Computational Physics: Solving the Time Independant Schrodinger Equation\n",
    "\n",
    "Abby Wilson, Teddy Pena, Reed Spitzer"
   ]
  },
  {
   "cell_type": "markdown",
   "metadata": {},
   "source": [
    "import libraries"
   ]
  },
  {
   "cell_type": "code",
   "execution_count": 27,
   "metadata": {
    "collapsed": true
   },
   "outputs": [],
   "source": [
    "import matplotlib.pyplot as plt\n",
    "import numpy as np\n",
    "import scipy as sci\n",
    "from __future__ import print_function, division"
   ]
  },
  {
   "cell_type": "markdown",
   "metadata": {},
   "source": [
    "initialize variables:\n",
    "psi is the wave function, \n",
    "u = dpsi/dx"
   ]
  },
  {
   "cell_type": "code",
   "execution_count": 41,
   "metadata": {},
   "outputs": [],
   "source": [
    "psi0 = 0 #initial value of psi\n",
    "u0 = 1 #intial value of derivative of psi\n",
    "\n",
    "x0 = 0 \n",
    "xf = 5\n",
    "step = 0.001\n",
    "numsteps = int(xf/step) + 1"
   ]
  },
  {
   "cell_type": "code",
   "execution_count": 42,
   "metadata": {
    "collapsed": true
   },
   "outputs": [],
   "source": [
    "x = np.linspace(x0, xf, numsteps)"
   ]
  },
  {
   "cell_type": "markdown",
   "metadata": {},
   "source": [
    "Solve the TISE using Euler's approximation"
   ]
  },
  {
   "cell_type": "code",
   "execution_count": 43,
   "metadata": {
    "collapsed": true
   },
   "outputs": [],
   "source": [
    "# define the potential function\n",
    "def V(position):\n",
    "    if position <= 0:\n",
    "        return 0\n",
    "    return position"
   ]
  },
  {
   "cell_type": "code",
   "execution_count": 44,
   "metadata": {
    "collapsed": true
   },
   "outputs": [],
   "source": [
    "def calcEulers(E):\n",
    "\n",
    "    psi = np.zeros([numsteps])\n",
    "    u = np.zeros([numsteps])\n",
    "\n",
    "    psi[0] = psi0\n",
    "    u[0] = u0\n",
    "    \n",
    "    for i in range(1, numsteps):\n",
    "        u[i] = u[i-1] + step * (-2) * (E - V((i-1)*step)) * psi[i-1]\n",
    "        psi[i] = psi[i-1] + step * u[i-1]\n",
    "         \n",
    "    return u, psi"
   ]
  },
  {
   "cell_type": "code",
   "execution_count": 45,
   "metadata": {
    "collapsed": true
   },
   "outputs": [],
   "source": [
    "def calcAB(E):\n",
    "    \n",
    "    psi = np.zeros([numsteps])\n",
    "    u = np.zeros([numsteps])\n",
    "    \n",
    "    u_, psi_ = calcEulers(E)\n",
    "    \n",
    "    u[0] = u0\n",
    "    psi[0] = psi0\n",
    "    u[1] = u_[1]\n",
    "    psi[1] = psi_[1]\n",
    "    \n",
    "    for i in range(2, numsteps):\n",
    "        psi[i] = psi[i-1] + (3/2)*step*(u[i-1]) - (1/2)*step*(u[i-2])\n",
    "        u[i] = u[i-1] + (3/2)*step*(-2*psi[i-1]*(E-x[i-1])) - \\\n",
    "        (1/2)*step*(-2*psi[i-2]*(E-x[i-2]))\n",
    "    \n",
    "    return u, psi"
   ]
  },
  {
   "cell_type": "code",
   "execution_count": 47,
   "metadata": {},
   "outputs": [
    {
     "data": {
      "image/png": "[encoded data removed]",
      "text/plain": [
       "<matplotlib.figure.Figure at 0x88676d8>"
      ]
     },
     "metadata": {},
     "output_type": "display_data"
    }
   ],
   "source": [
    "# Here, y is a dummy variable. we have to set something equal to u, but we're not using u here. \n",
    "y_, wave_func0 = calcEulers(0)\n",
    "y_, wave_func1 = calcEulers(1)\n",
    "y_, wave_func2 = calcEulers(2)\n",
    "\n",
    "y_, wave_func1_ = calcAB(1)\n",
    "plt.plot(x, wave_func0, label=\"E=0\")\n",
    "plt.plot(x, wave_func1, label=\"E=1\")\n",
    "plt.plot(x, wave_func1_, color=\"pink\", label=\"E=1\")\n",
    "plt.plot(x, wave_func2, label=\"E=2\")\n",
    "plt.legend()\n",
    "plt.xlabel(\"$x$ (Position)\")\n",
    "plt.ylabel(\"$\\\\Psi(x)$ (Wave Function)\")\n",
    "plt.title(\"Wave Function for Different Values of E\")\n",
    "plt.show()"
   ]
  },
  {
   "cell_type": "code",
   "execution_count": null,
   "metadata": {
    "collapsed": true
   },
   "outputs": [],
   "source": []
  },
  {
   "cell_type": "code",
   "execution_count": null,
   "metadata": {
    "collapsed": true
   },
   "outputs": [],
   "source": []
  },
  {
   "cell_type": "code",
   "execution_count": null,
   "metadata": {
    "collapsed": true
   },
   "outputs": [],
   "source": []
  }
 ],
 "metadata": {
  "kernelspec": {
   "display_name": "Python 2",
   "language": "python",
   "name": "python2"
  },
  "language_info": {
   "codemirror_mode": {
    "name": "ipython",
    "version": 2
   },
   "file_extension": ".py",
   "mimetype": "text/x-python",
   "name": "python",
   "nbconvert_exporter": "python",
   "pygments_lexer": "ipython2",
   "version": "2.7.14"
  },
  "varInspector": {
   "cols": {
    "lenName": 16,
    "lenType": 16,
    "lenVar": 40
   },
   "kernels_config": {
    "python": {
     "delete_cmd_postfix": "",
     "delete_cmd_prefix": "del ",
     "library": "var_list.py",
     "varRefreshCmd": "print(var_dic_list())"
    },
    "r": {
     "delete_cmd_postfix": ") ",
     "delete_cmd_prefix": "rm(",
     "library": "var_list.r",
     "varRefreshCmd": "cat(var_dic_list()) "
    }
   },
   "types_to_exclude": [
    "module",
    "function",
    "builtin_function_or_method",
    "instance",
    "_Feature"
   ],
   "window_display": false
  }
 },
 "nbformat": 4,
 "nbformat_minor": 2
}
