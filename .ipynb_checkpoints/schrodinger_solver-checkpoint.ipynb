{
 "cells": [
  {
   "cell_type": "markdown",
   "metadata": {},
   "source": [
    "## Computational Physics: Solving the Time Independant Schrodinger Equation\n",
    "\n",
    "Abby Wilson, Teddy Pena, Reed Spitzer"
   ]
  },
  {
   "cell_type": "markdown",
   "metadata": {},
   "source": [
    "import libraries"
   ]
  },
  {
   "cell_type": "code",
   "execution_count": 40,
   "metadata": {
    "collapsed": true
   },
   "outputs": [],
   "source": [
    "import matplotlib.pyplot as plt\n",
    "import numpy as np\n",
    "import scipy as sci\n",
    "from __future__ import print_function, division"
   ]
  },
  {
   "cell_type": "markdown",
   "metadata": {},
   "source": [
    "initialize variables:\n",
    "psi is the wave function, \n",
    "u = dpsi/dx"
   ]
  },
  {
   "cell_type": "code",
   "execution_count": 41,
   "metadata": {},
   "outputs": [
    {
     "name": "stdout",
     "output_type": "stream",
     "text": [
      "1.5\n"
     ]
    }
   ],
   "source": [
    "psi0 = 0 #initial value of psi\n",
    "u0 = 1 #intial value of derivative of psi\n",
    "\n",
    "x0 = 0 \n",
    "xf = 3\n",
    "step = 0.001\n",
    "numsteps = int(xf/step) + 1"
   ]
  },
  {
   "cell_type": "code",
   "execution_count": 23,
   "metadata": {
    "collapsed": true
   },
   "outputs": [],
   "source": [
    "x = np.linspace(x0, xf, numsteps)"
   ]
  },
  {
   "cell_type": "markdown",
   "metadata": {},
   "source": [
    "Solve the TISE using Euler's approximation"
   ]
  },
  {
   "cell_type": "code",
   "execution_count": 24,
   "metadata": {
    "collapsed": true
   },
   "outputs": [],
   "source": [
    "# define the potential function\n",
    "def V(position):\n",
    "    if position <= 0:\n",
    "        return np.inf\n",
    "    return position"
   ]
  },
  {
   "cell_type": "code",
   "execution_count": 37,
   "metadata": {
    "collapsed": true
   },
   "outputs": [],
   "source": [
    "def calcEulers(E):\n",
    "\n",
    "    psi = np.zeros([numsteps])\n",
    "    u = np.zeros([numsteps])\n",
    "\n",
    "    psi[0] = psi0\n",
    "    print(numsteps)\n",
    "    u[0] = u0\n",
    "    \n",
    "    for i in range(1, numsteps):\n",
    "        u[i] = u[i-1] + step * (-2) * (E - V((i-1)*step)) * psi[i-1]\n",
    "        psi[i] = psi[i-1] + step * u[i-1]\n",
    "         \n",
    "    return u, psi"
   ]
  },
  {
   "cell_type": "code",
   "execution_count": 38,
   "metadata": {},
   "outputs": [],
   "source": [
    "def calcAB(E):\n",
    "    \n",
    "    psi = np.zeros([numsteps])\n",
    "    u = np.zeros([numsteps])\n",
    "    \n",
    "    u_, psi_ = calcEulers(E)\n",
    "    \n",
    "    u[0] = u0\n",
    "    psi[0] = psi0\n",
    "    u[1] = u_[1]\n",
    "    psi[1] = psi_[1]\n",
    "    \n",
    "    \n",
    "    for i in range(2, numsteps):\n",
    "        psi[i] = psi[i-1] + (3/2)*step*(u[i-1]) - (1/2)*step*(u[i-2])\n",
    "        u[i] = u[i-1] + (3/2)*step*(-2*psi[i-1]*(E-x[i-1])) - (1/2)*step(-2*psi[i-2]*(E-x[i-2]))\n",
    "    \n",
    "    return u, psi"
   ]
  },
  {
   "cell_type": "code",
   "execution_count": 39,
   "metadata": {},
   "outputs": [
    {
     "name": "stdout",
     "output_type": "stream",
     "text": [
      "3001\n"
     ]
    },
    {
     "ename": "ValueError",
     "evalue": "setting an array element with a sequence.",
     "output_type": "error",
     "traceback": [
      "\u001b[1;31m---------------------------------------------------------------------------\u001b[0m",
      "\u001b[1;31mValueError\u001b[0m                                Traceback (most recent call last)",
      "\u001b[1;32m<ipython-input-39-95c86f1db13c>\u001b[0m in \u001b[0;36m<module>\u001b[1;34m()\u001b[0m\n\u001b[1;32m----> 1\u001b[1;33m \u001b[0mu0\u001b[0m\u001b[1;33m,\u001b[0m \u001b[0mwave_func0\u001b[0m \u001b[1;33m=\u001b[0m \u001b[0mcalcEulers\u001b[0m\u001b[1;33m(\u001b[0m\u001b[1;36m0\u001b[0m\u001b[1;33m)\u001b[0m\u001b[1;33m\u001b[0m\u001b[0m\n\u001b[0m\u001b[0;32m      2\u001b[0m \u001b[0mu1\u001b[0m\u001b[1;33m,\u001b[0m \u001b[0mwave_func1\u001b[0m \u001b[1;33m=\u001b[0m \u001b[0mcalcEulers\u001b[0m\u001b[1;33m(\u001b[0m\u001b[1;36m1\u001b[0m\u001b[1;33m)\u001b[0m\u001b[1;33m\u001b[0m\u001b[0m\n\u001b[0;32m      3\u001b[0m \u001b[0mu2\u001b[0m\u001b[1;33m,\u001b[0m \u001b[0mwave_func2\u001b[0m \u001b[1;33m=\u001b[0m \u001b[0mcalcEulers\u001b[0m\u001b[1;33m(\u001b[0m\u001b[1;36m2\u001b[0m\u001b[1;33m)\u001b[0m\u001b[1;33m\u001b[0m\u001b[0m\n\u001b[0;32m      4\u001b[0m \u001b[1;33m\u001b[0m\u001b[0m\n\u001b[0;32m      5\u001b[0m \u001b[0mu1_\u001b[0m\u001b[1;33m,\u001b[0m \u001b[0mwave_func1_\u001b[0m \u001b[1;33m=\u001b[0m \u001b[0mcalcAB\u001b[0m\u001b[1;33m(\u001b[0m\u001b[1;36m1\u001b[0m\u001b[1;33m)\u001b[0m\u001b[1;33m\u001b[0m\u001b[0m\n",
      "\u001b[1;32m<ipython-input-37-22c6098c1331>\u001b[0m in \u001b[0;36mcalcEulers\u001b[1;34m(E)\u001b[0m\n\u001b[0;32m      6\u001b[0m     \u001b[0mpsi\u001b[0m\u001b[1;33m[\u001b[0m\u001b[1;36m0\u001b[0m\u001b[1;33m]\u001b[0m \u001b[1;33m=\u001b[0m \u001b[0mpsi0\u001b[0m\u001b[1;33m\u001b[0m\u001b[0m\n\u001b[0;32m      7\u001b[0m     \u001b[1;32mprint\u001b[0m\u001b[1;33m(\u001b[0m\u001b[0mnumsteps\u001b[0m\u001b[1;33m)\u001b[0m\u001b[1;33m\u001b[0m\u001b[0m\n\u001b[1;32m----> 8\u001b[1;33m     \u001b[0mu\u001b[0m\u001b[1;33m[\u001b[0m\u001b[1;36m0\u001b[0m\u001b[1;33m]\u001b[0m \u001b[1;33m=\u001b[0m \u001b[0mu0\u001b[0m\u001b[1;33m\u001b[0m\u001b[0m\n\u001b[0m\u001b[0;32m      9\u001b[0m \u001b[1;33m\u001b[0m\u001b[0m\n\u001b[0;32m     10\u001b[0m     \u001b[1;32mfor\u001b[0m \u001b[0mi\u001b[0m \u001b[1;32min\u001b[0m \u001b[0mrange\u001b[0m\u001b[1;33m(\u001b[0m\u001b[1;36m1\u001b[0m\u001b[1;33m,\u001b[0m \u001b[0mnumsteps\u001b[0m\u001b[1;33m)\u001b[0m\u001b[1;33m:\u001b[0m\u001b[1;33m\u001b[0m\u001b[0m\n",
      "\u001b[1;31mValueError\u001b[0m: setting an array element with a sequence."
     ]
    }
   ],
   "source": [
    "u0, wave_func0 = calcEulers(0)\n",
    "u1, wave_func1 = calcEulers(1)\n",
    "u2, wave_func2 = calcEulers(2)\n",
    "\n",
    "u1_, wave_func1_ = calcAB(1)\n",
    "plt.plot(x, wave_func0)\n",
    "plt.plot(x, wave_func1)\n",
    "plt.plot(x, wave_func1_, color=\"pink\")\n",
    "plt.plot(x, wave_func2)\n",
    "plt.plot\n",
    "plt.legend(['E=0','E=1','E=2'])\n",
    "plt.xlabel(\"$x$ (Position)\")\n",
    "plt.ylabel(\"$\\\\Psi(x)$ (Wave Function)\")\n",
    "plt.title(\"Wave Function for Different Values of E\")\n",
    "plt.show()"
   ]
  },
  {
   "cell_type": "code",
   "execution_count": null,
   "metadata": {
    "collapsed": true
   },
   "outputs": [],
   "source": []
  },
  {
   "cell_type": "code",
   "execution_count": null,
   "metadata": {
    "collapsed": true
   },
   "outputs": [],
   "source": []
  }
 ],
 "metadata": {
  "kernelspec": {
   "display_name": "Python 2",
   "language": "python",
   "name": "python2"
  },
  "language_info": {
   "codemirror_mode": {
    "name": "ipython",
    "version": 2
   },
   "file_extension": ".py",
   "mimetype": "text/x-python",
   "name": "python",
   "nbconvert_exporter": "python",
   "pygments_lexer": "ipython2",
   "version": "2.7.14"
  },
  "varInspector": {
   "cols": {
    "lenName": 16,
    "lenType": 16,
    "lenVar": 40
   },
   "kernels_config": {
    "python": {
     "delete_cmd_postfix": "",
     "delete_cmd_prefix": "del ",
     "library": "var_list.py",
     "varRefreshCmd": "print(var_dic_list())"
    },
    "r": {
     "delete_cmd_postfix": ") ",
     "delete_cmd_prefix": "rm(",
     "library": "var_list.r",
     "varRefreshCmd": "cat(var_dic_list()) "
    }
   },
   "types_to_exclude": [
    "module",
    "function",
    "builtin_function_or_method",
    "instance",
    "_Feature"
   ],
   "window_display": false
  }
 },
 "nbformat": 4,
 "nbformat_minor": 2
}
